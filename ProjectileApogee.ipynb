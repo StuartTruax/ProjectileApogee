{
 "cells": [
  {
   "cell_type": "markdown",
   "metadata": {},
   "source": [
    "# Projectile Apogee in Fluid Media under a Potential Field\n",
    "\n",
    "S. Truax, 2018-12\n",
    "\n",
    "__Summary__\n",
    "\n",
    "The goal of this analysis is to calculate a realistic estimate of the maximum reach (i.e. apogee) of large-caliber small arms fire from the ground. Many analyses consider only the gravitational potential, which yields grossly unrealistic estimates on the order of 30 km or greater of apogee. However, it is known from practical experience in warfare that aircraft are typically safe from small-arms fire at altitudes of 3000 m or greater.\n",
    "\n",
    "This notebook shows graphically the maximum displacement  $x_{max}$ (apogee) achieved by a projectile fired in the opposite direction of a graviational field $\\textbf{g}$. Two scenarios are considered:\n",
    "\n",
    " 1.  Gravitational acceleration $g$ and an inviscid drag force $F_{drag}$  acting against the projectile\n",
    " 2.  An additional viscous force $F_{viscous}$  acting against the projectile. \n",
    "\n",
    "The apogee achieved by the projectile under both conditions, given an initial velocity $v_{0}$, will be found. Differential equations for each case will be obtained and solved using the `scipy.integrate.ode` library of `numpy`.\n",
    "\n",
    "\n"
   ]
  },
  {
   "cell_type": "markdown",
   "metadata": {},
   "source": [
    "## Case 1: Governing Equations\n",
    "\n",
    "In the following equations, only a single degree-of-freedom, parallel to the force of the potential, is considered. Given a projectile of mass $m$, the forces acting on the projectile under case (1) are:\n",
    "\n",
    "<center>$\\Sigma F = -mg-\\frac{1}{2}\\rho v^{2}c_{d}A = m \\frac{dv}{dt}$</center>\n",
    "\n",
    "where $c_d$ is a dimensionless drag coefficient under inviscid fluid assumptions. Given that the Reynolds number is high for this problem (due to the high velocity of the projectile), viscous forces are assumed to be negligible, thus only the inviscid drag force will be considered. \n",
    "\n",
    "The force balance equation thus yields the following differential equation:\n",
    "\n",
    "<center>$\\frac{dv}{dt} +\\frac{1}{2m}\\rho v^{2}c_{d}A = -g$</center>\n",
    "\n"
   ]
  },
  {
   "cell_type": "markdown",
   "metadata": {},
   "source": [
    "# Numerical Solution\n",
    "\n",
    "Consider the problem applied to a Speer .50 caliber bullet. The parameters for the problem become:\n",
    "\n",
    " - $v_{0} = 928 \\frac{m}{s}$, the muzzle velocity\n",
    " - $m = 4.2 \\cdot 10^{-2} kg$, the projectile mass\n",
    " - $c_d = 0.82$, the drag coefficient for a long cylinder\n",
    " - $A = 3.14 \\cdot 10^{-4} m^{2}$, the reference area of the projectile. \n",
    " - $\\rho = 1.225 kg/m^{3}$, the density of air\n",
    " "
   ]
  },
  {
   "cell_type": "code",
   "execution_count": 4,
   "metadata": {},
   "outputs": [
    {
     "data": {
      "image/png": "[encoded data removed]",
      "text/plain": [
       "<matplotlib.figure.Figure at 0x112cf66d0>"
      ]
     },
     "metadata": {},
     "output_type": "display_data"
    }
   ],
   "source": [
    "import numpy as np\n",
    "import matplotlib.pyplot as plt\n",
    "from scipy.integrate import odeint\n",
    "\n",
    "g = 9.8\n",
    "v0 = 928\n",
    "m = 4.2e-2\n",
    "c_d = 0.82\n",
    "A = 3.14e-4\n",
    "rho = 1.225\n",
    "\n",
    "def dv_dt(v,t):\n",
    "    return -g - (1/(2*m))*rho*(v**2)*c_d*A\n",
    "\n",
    "ts = np.linspace(0,15,10000)\n",
    "vs = odeint(dv_dt, v0, ts)\n",
    "vs = np.array(vs).flatten()\n",
    "\n",
    "plt.title('Velocity Curve: Inviscid Drag and Gravity Effects')\n",
    "plt.xlabel(\"t [s]\")\n",
    "plt.ylabel(\"v [m/s]\")\n",
    "plt.plot(ts, vs)\n",
    "plt.grid(True, which='both')\n",
    "plt.show()\n"
   ]
  },
  {
   "cell_type": "markdown",
   "metadata": {},
   "source": [
    "## Apogee Calculation\n",
    "Calculate the apogee in terms of displacement by finding $t_f$ for which $v=0$. Then integrate $v(t)$ up to $t_f$. \n"
   ]
  },
  {
   "cell_type": "code",
   "execution_count": 5,
   "metadata": {},
   "outputs": [
    {
     "name": "stdout",
     "output_type": "stream",
     "text": [
      "('Apogee with only inviscid drag forces:', 772.5894088510614)\n"
     ]
    }
   ],
   "source": [
    "import scipy.integrate as integrate\n",
    "\n",
    "zero_crossing = np.where(np.diff(np.sign(vs)))\n",
    "x_max_inv = integrate.simps(vs[0:zero_crossing[0][0]], ts[0:zero_crossing[0][0]])\n",
    "\n",
    "print(\"Apogee with only inviscid drag forces:\",x_max_inv)\n",
    "\n"
   ]
  },
  {
   "cell_type": "markdown",
   "metadata": {},
   "source": [
    "# Case 2: Transition from Inviscid to Viscous Flow\n",
    "\n",
    "In the above solution, only the inviscid forces are considered. In reality, viscous forces would eventually dominate as the velocity decreases. A what point this transition occurs is determined by the parameters of the problem.\n",
    "\n",
    "Now the task is to estimate the velocity $v$ for which $F_{viscous} \\approx F_{drag}$ (i.e. the transition point). \n",
    " \n",
    "Consider the modified force balance:\n",
    "\n",
    "\n",
    "<center>$\\frac{dv}{dt} +\\frac{1}{2m}\\rho v^{2}c_{d}A + \\frac{1}{m}bv  = -g$</center>\n",
    "\n",
    "where the $b$ is a linear viscous damping coefficient such that $F_{viscous} = bv$. Using a dimensional analysis to get an order-of-magnitude estimate for $b$, consider the Reynolds number $Re$ of the problem:\n",
    "\n",
    "<center>$Re = \\frac{\\text{inertial forces}}{\\text{viscous forces}}=\\frac{\\text{inertial forces}}{\\frac{\\text{dynamic viscosity} \\cdot \\text{area}}{\\text{distance}} \\cdot{\\text{velocity}}}$</center>\n",
    "\n",
    "Since the viscous force $F_{viscous} = bv$ is velocity-proportional, an estimate for $b$ is obtained from the combination of parameters $\\frac{\\text{dynamic viscosity} \\cdot \\text{area}}{\\text{distance}}$ .\n",
    "\n",
    "From this estimate, the transition point in terms of velocity is given by:\n",
    "\n",
    "<center>$\\frac{1}{2}\\rho v^{2}c_{d}A \\approx bv $</center>\n",
    "\n",
    "which yields:\n",
    "\n",
    "\n",
    "<center>$ v_{transition} \\approx \\frac{2\\mu}{c_{d}\\rho{L}} $</center>\n",
    "\n",
    "\n",
    "# Numerical Solution\n",
    "\n",
    "The following values for dynamic viscosity, area, and characteristic length are used:\n",
    "\n",
    " - $A = 3.14 \\cdot 10^{-4} m^{2}$, the reference area of the projectile. \n",
    " - $L = 4 \\cdot 10^{-2} m$, length of projectile. \n",
    " - $\\mu = 1.81 \\cdot 10^{-5} Pa \\cdot s$, dynamic viscosity of air at 15 degrees C. \n",
    " \n",
    "These parameter values give $b = 1.42 \\cdot 10^{-7} \\frac{kg}{s}$ .  Furthermore, $ v_{transition} \\approx 1\\cdot 10^{-3}$ m/s, which is quite small. It is therefore expected that the viscous forces will have little effect on the apogee of the projectile. \n",
    " "
   ]
  },
  {
   "cell_type": "code",
   "execution_count": 6,
   "metadata": {},
   "outputs": [
    {
     "name": "stdout",
     "output_type": "stream",
     "text": [
      "0.000900945744151\n"
     ]
    },
    {
     "data": {
      "image/png": "[encoded data removed]",
      "text/plain": [
       "<matplotlib.figure.Figure at 0x10f85bb50>"
      ]
     },
     "metadata": {},
     "output_type": "display_data"
    },
    {
     "name": "stdout",
     "output_type": "stream",
     "text": [
      "('Apogee with viscous forces:', 772.5892648008032)\n",
      "('Percentage change between the two cases', 1.8645124633120957e-05)\n"
     ]
    }
   ],
   "source": [
    "import numpy as np\n",
    "import matplotlib.pyplot as plt\n",
    "from scipy.integrate import odeint\n",
    "\n",
    "g = 9.8\n",
    "v0 = 928\n",
    "m = 4.2e-2\n",
    "c_d = 0.82\n",
    "A = 3.14e-4\n",
    "rho = 1.225\n",
    "L = 4e-2\n",
    "mu = 1.81e-5\n",
    "b = mu*A/L\n",
    "\n",
    "v_trans = 2*mu/(c_d*rho*L)\n",
    "print(v_trans)\n",
    "\n",
    "\n",
    "def dv_dt(v,t):\n",
    "    return -g - (1/(2*m))*rho*(v**2)*c_d*A - b*v\n",
    "\n",
    "ts = np.linspace(0,15,10000)\n",
    "vs = odeint(dv_dt, v0, ts)\n",
    "vs = np.array(vs).flatten()\n",
    "\n",
    "plt.title('Velocity Curve: Viscous Forces, Inviscid Drag and Gravity Effects')\n",
    "plt.xlabel(\"t [s]\")\n",
    "plt.ylabel(\"v [m/s]\")\n",
    "plt.plot(ts, vs)\n",
    "plt.grid(True, which='both')\n",
    "plt.show()\n",
    "\n",
    "\n",
    "zero_crossing = np.where(np.diff(np.sign(vs)))\n",
    "x_max_viscous = integrate.simps(vs[0:zero_crossing[0][0]], ts[0:zero_crossing[0][0]])\n",
    "print(\"Apogee with viscous forces:\", x_max_viscous)\n",
    "\n",
    "reduction_perc = (1-(x_max_viscous/x_max_inv))*100\n",
    "\n",
    "print(\"Percentage change between the two cases\", reduction_perc)"
   ]
  },
  {
   "cell_type": "markdown",
   "metadata": {},
   "source": [
    "Indeed, there is little difference between the apogees calculated for Case 1 and Case 2. Each case gives an apogee of roughly __772 m__. It is concluded that, under the parameters of the problem, viscous forces are negligible and the inviscid drag, due to inertial forces of the air, are primarily responsible for slowing the projectile. "
   ]
  },
  {
   "cell_type": "markdown",
   "metadata": {},
   "source": [
    "# Conclusion\n",
    "\n",
    "Under the assumptions of this analysis, the apogee of a Speer .50 caliber bullet with a muzzle velocity of 928 m/s fired straight up shouldn't exceed about __772 m__. This is in stark contrast to the __30 km__ or more estimated by considering the gravitational potential alone. \n",
    "\n",
    "\n",
    "Inviscid drag forces greatly reduce the apogee of the projectile in comparison to the \"pure gravity\" case. Further considering viscous forces in addition to inviscid drag and gravity, the apogee is only reduced by less than a 10,000th of a percent. Thus inviscid drag yields the dominant correction to the \"pure gravity\" case. \n",
    "\n",
    "\n",
    "## Further Notes\n",
    "\n",
    "This is first pass/back-of-the-envelope analysis. I did not corroborate these results with any empirical study or outside references specific to the subject. \n"
   ]
  },
  {
   "cell_type": "code",
   "execution_count": null,
   "metadata": {},
   "outputs": [],
   "source": []
  }
 ],
 "metadata": {
  "kernelspec": {
   "display_name": "Python 2",
   "language": "python",
   "name": "python2"
  },
  "language_info": {
   "codemirror_mode": {
    "name": "ipython",
    "version": 2
   },
   "file_extension": ".py",
   "mimetype": "text/x-python",
   "name": "python",
   "nbconvert_exporter": "python",
   "pygments_lexer": "ipython2",
   "version": "2.7.15"
  }
 },
 "nbformat": 4,
 "nbformat_minor": 2
}
